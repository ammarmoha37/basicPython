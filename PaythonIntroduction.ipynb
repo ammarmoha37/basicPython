{
 "cells": [
  {
   "cell_type": "markdown",
   "id": "2fad33a3",
   "metadata": {},
   "source": [
    "<h1 style=\"font-size: 3rem; color: red;\">Python Introduction<h1>"
   ]
  },
  {
   "cell_type": "markdown",
   "id": "cb4b1cd0",
   "metadata": {},
   "source": [
    "# Basic Output"
   ]
  },
  {
   "cell_type": "code",
   "execution_count": 1,
   "id": "82bb3320",
   "metadata": {},
   "outputs": [
    {
     "name": "stdout",
     "output_type": "stream",
     "text": [
      "Hello, World!\n"
     ]
    }
   ],
   "source": [
    "print(\"Hello, World!\") "
   ]
  },
  {
   "cell_type": "markdown",
   "id": "0aa7b9cf",
   "metadata": {},
   "source": [
    "# Insert a variable into a string"
   ]
  },
  {
   "cell_type": "code",
   "execution_count": 4,
   "id": "41c53011",
   "metadata": {},
   "outputs": [
    {
     "name": "stdout",
     "output_type": "stream",
     "text": [
      "What's your name?Ammar\n",
      "Hello, Ammar!\n"
     ]
    }
   ],
   "source": [
    "person = input(\"What's your name?\") #prompt the user for input\n",
    "message = \"Hello, {}!\".format(person) #adding the input with a message to print it\n",
    "print(message)"
   ]
  },
  {
   "cell_type": "markdown",
   "id": "2b265164",
   "metadata": {},
   "source": [
    "# Multiline String and String Length"
   ]
  },
  {
   "cell_type": "code",
   "execution_count": 5,
   "id": "69ab140d",
   "metadata": {},
   "outputs": [
    {
     "name": "stdout",
     "output_type": "stream",
     "text": [
      "Once upon a time\n",
      "There was a happy family\n",
      "Until the bear ate them.\n",
      "66\n"
     ]
    }
   ],
   "source": [
    "story = \"\"\"Once upon a time\n",
    "There was a happy family\n",
    "Until the bear ate them.\"\"\"\n",
    "print(story)\n",
    "print(len(story)) #getting the length of the string"
   ]
  },
  {
   "cell_type": "markdown",
   "id": "f56c8a7b",
   "metadata": {},
   "source": [
    "# Math Operations"
   ]
  },
  {
   "cell_type": "code",
   "execution_count": 6,
   "id": "856f9984",
   "metadata": {},
   "outputs": [
    {
     "name": "stdout",
     "output_type": "stream",
     "text": [
      "15\n"
     ]
    }
   ],
   "source": [
    "num1 = 10\n",
    "num2 = 5\n",
    "sum = num1 + num2 #adding valuse using variables\n",
    "print(sum)"
   ]
  },
  {
   "cell_type": "markdown",
   "id": "8f9ef3e1",
   "metadata": {},
   "source": [
    "# Lists (Arrays)"
   ]
  },
  {
   "cell_type": "code",
   "execution_count": 7,
   "id": "b03f97e3",
   "metadata": {},
   "outputs": [
    {
     "name": "stdout",
     "output_type": "stream",
     "text": [
      "['Monica', 'Phoebe', 'Chandler', 'Jeoy', 'Ross']\n"
     ]
    }
   ],
   "source": [
    "friends = ['Monica', 'Phoebe', 'Chandler', 'Jeoy', 'Ross'] #defining a list\n",
    "print(friends)"
   ]
  },
  {
   "cell_type": "code",
   "execution_count": 8,
   "id": "b42209f6",
   "metadata": {},
   "outputs": [
    {
     "data": {
      "text/plain": [
       "list"
      ]
     },
     "execution_count": 8,
     "metadata": {},
     "output_type": "execute_result"
    }
   ],
   "source": [
    "type(friends) #getting the type of the list"
   ]
  },
  {
   "cell_type": "code",
   "execution_count": 9,
   "id": "cf374295",
   "metadata": {},
   "outputs": [
    {
     "data": {
      "text/plain": [
       "'Chandler'"
      ]
     },
     "execution_count": 9,
     "metadata": {},
     "output_type": "execute_result"
    }
   ],
   "source": [
    "friends[2] #printing the third element"
   ]
  },
  {
   "cell_type": "code",
   "execution_count": 10,
   "id": "2df0a987",
   "metadata": {},
   "outputs": [
    {
     "data": {
      "text/plain": [
       "['Phoebe', 'Chandler']"
      ]
     },
     "execution_count": 10,
     "metadata": {},
     "output_type": "execute_result"
    }
   ],
   "source": [
    "friends[1:3] "
   ]
  },
  {
   "cell_type": "code",
   "execution_count": 11,
   "id": "a65b8b49",
   "metadata": {},
   "outputs": [
    {
     "name": "stdout",
     "output_type": "stream",
     "text": [
      "['Monica', 'Phoebe', 'Chandler', 'Jeoy', 'Ross', 'Rachel']\n"
     ]
    }
   ],
   "source": [
    "friends.append('Rachel') #adding element to the list\n",
    "print(friends)"
   ]
  },
  {
   "cell_type": "code",
   "execution_count": 12,
   "id": "a7b5257f",
   "metadata": {},
   "outputs": [
    {
     "name": "stdout",
     "output_type": "stream",
     "text": [
      "['Rachel', 'Ross', 'Jeoy', 'Chandler', 'Phoebe', 'Monica']\n"
     ]
    }
   ],
   "source": [
    "friends.reverse() #reversing the elements of the list\n",
    "print(friends)"
   ]
  },
  {
   "cell_type": "markdown",
   "id": "a3c94539",
   "metadata": {},
   "source": [
    "# Loops"
   ]
  },
  {
   "cell_type": "code",
   "execution_count": 23,
   "id": "fdbdf368",
   "metadata": {},
   "outputs": [
    {
     "name": "stdout",
     "output_type": "stream",
     "text": [
      "please enter a number: 5\n",
      "The factorial is:  120\n"
     ]
    }
   ],
   "source": [
    "x = int(input(\"please enter a number: \")) #prompt the user for input\n",
    "fac = 1\n",
    "for i in range(1, x + 1):\n",
    "    fac *= i           #calculating factorial of a number\n",
    "print(\"The factorial is: \", fac)"
   ]
  },
  {
   "cell_type": "code",
   "execution_count": 38,
   "id": "e91ddeb7",
   "metadata": {},
   "outputs": [
    {
     "name": "stdout",
     "output_type": "stream",
     "text": [
      "0\n",
      "2\n",
      "4\n",
      "6\n",
      "8\n",
      "10\n",
      "12\n",
      "14\n",
      "16\n",
      "18\n",
      "20\n",
      "22\n",
      "24\n",
      "26\n",
      "28\n",
      "30\n"
     ]
    }
   ],
   "source": [
    "i = 0 \n",
    "while (i < 31):\n",
    "    print(i)\n",
    "    i += 2      #printing the even numbers from 0 to 30"
   ]
  },
  {
   "cell_type": "markdown",
   "id": "5875e569",
   "metadata": {},
   "source": [
    "# Conditions"
   ]
  },
  {
   "cell_type": "code",
   "execution_count": 30,
   "id": "558e6a44",
   "metadata": {},
   "outputs": [
    {
     "name": "stdout",
     "output_type": "stream",
     "text": [
      "please enter a number: -1\n",
      "x is less than five\n"
     ]
    }
   ],
   "source": [
    "x = int(input(\"please enter a number: \")) #prompt the user for input\n",
    "if (x < 5):          #comparing the value with 5\n",
    "    print(\"x is less than five\")\n",
    "elif (x == 5):\n",
    "    print(\"x is equal to five\")\n",
    "else:\n",
    "    print(\"x is greater than five\")    "
   ]
  },
  {
   "cell_type": "markdown",
   "id": "722db3b8",
   "metadata": {},
   "source": [
    "# Dictionarys"
   ]
  },
  {
   "cell_type": "code",
   "execution_count": 32,
   "id": "63f5145d",
   "metadata": {},
   "outputs": [
    {
     "data": {
      "text/plain": [
       "{'John': 75, 'Mark': 85, 'Sarah': 90, 'Peter': 99}"
      ]
     },
     "execution_count": 32,
     "metadata": {},
     "output_type": "execute_result"
    }
   ],
   "source": [
    "student = {'John': 75, 'Mark': 85, 'Sarah': 90, 'Peter': 99}  #defining dictionary\n",
    "student   #printing the dictionary"
   ]
  },
  {
   "cell_type": "code",
   "execution_count": 33,
   "id": "cecd66c7",
   "metadata": {},
   "outputs": [
    {
     "data": {
      "text/plain": [
       "dict"
      ]
     },
     "execution_count": 33,
     "metadata": {},
     "output_type": "execute_result"
    }
   ],
   "source": [
    "type(student)  #getting the type"
   ]
  },
  {
   "cell_type": "code",
   "execution_count": 34,
   "id": "77b5a6e7",
   "metadata": {},
   "outputs": [
    {
     "data": {
      "text/plain": [
       "dict_keys(['John', 'Mark', 'Sarah', 'Peter'])"
      ]
     },
     "execution_count": 34,
     "metadata": {},
     "output_type": "execute_result"
    }
   ],
   "source": [
    "student.keys()  #getting the keys "
   ]
  },
  {
   "cell_type": "code",
   "execution_count": 35,
   "id": "ed231f91",
   "metadata": {},
   "outputs": [
    {
     "data": {
      "text/plain": [
       "dict_values([75, 85, 90, 99])"
      ]
     },
     "execution_count": 35,
     "metadata": {},
     "output_type": "execute_result"
    }
   ],
   "source": [
    "student.values()   # getting the values"
   ]
  },
  {
   "cell_type": "code",
   "execution_count": 36,
   "id": "5862f981",
   "metadata": {},
   "outputs": [
    {
     "name": "stdout",
     "output_type": "stream",
     "text": [
      "John 75\n",
      "Mark 85\n",
      "Sarah 90\n",
      "Peter 99\n"
     ]
    }
   ],
   "source": [
    "for key, values in student.items():\n",
    "    print(key, values)   #printing the keys and the values in the dictionary"
   ]
  },
  {
   "cell_type": "markdown",
   "id": "8f138fc8",
   "metadata": {},
   "source": [
    "# Functions"
   ]
  },
  {
   "cell_type": "code",
   "execution_count": 41,
   "id": "9998a778",
   "metadata": {},
   "outputs": [
    {
     "name": "stdout",
     "output_type": "stream",
     "text": [
      "please enter a number: 25\n"
     ]
    },
    {
     "data": {
      "text/plain": [
       "625"
      ]
     },
     "execution_count": 41,
     "metadata": {},
     "output_type": "execute_result"
    }
   ],
   "source": [
    "x = int(input(\"please enter a number: \")) #prompt the user for input\n",
    "def square(x):    #Square of a number\n",
    "    y = x**2\n",
    "    return y\n",
    "square(x)"
   ]
  },
  {
   "cell_type": "code",
   "execution_count": 42,
   "id": "e4ffbbbb",
   "metadata": {},
   "outputs": [
    {
     "name": "stdout",
     "output_type": "stream",
     "text": [
      "please enter a number: 3\n"
     ]
    },
    {
     "data": {
      "text/plain": [
       "27"
      ]
     },
     "execution_count": 42,
     "metadata": {},
     "output_type": "execute_result"
    }
   ],
   "source": [
    "x = int(input(\"please enter a number: \")) #prompt the user for input\n",
    "def cube(x):    #cube of a number\n",
    "    y = x**3\n",
    "    return y\n",
    "cube(x)"
   ]
  }
 ],
 "metadata": {
  "kernelspec": {
   "display_name": "Python 3 (ipykernel)",
   "language": "python",
   "name": "python3"
  },
  "language_info": {
   "codemirror_mode": {
    "name": "ipython",
    "version": 3
   },
   "file_extension": ".py",
   "mimetype": "text/x-python",
   "name": "python",
   "nbconvert_exporter": "python",
   "pygments_lexer": "ipython3",
   "version": "3.9.13"
  }
 },
 "nbformat": 4,
 "nbformat_minor": 5
}
